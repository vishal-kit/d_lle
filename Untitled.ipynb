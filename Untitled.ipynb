{
 "cells": [
  {
   "cell_type": "markdown",
   "metadata": {},
   "source": [
    "locally_linear_embedding for learning manifold kernel \n",
    "---"
   ]
  },
  {
   "cell_type": "code",
   "execution_count": null,
   "metadata": {
    "collapsed": false
   },
   "outputs": [],
   "source": [
    "import sklearn\n",
    "import matplotlib.pyplot as plt\n",
    "from mpl_toolkits.mplot3d import Axes3D\n",
    "from sklearn import manifold"
   ]
  },
  {
   "cell_type": "code",
   "execution_count": null,
   "metadata": {
    "collapsed": true
   },
   "outputs": [],
   "source": [
    "import numpy as np"
   ]
  },
  {
   "cell_type": "code",
   "execution_count": null,
   "metadata": {
    "collapsed": true
   },
   "outputs": [],
   "source": [
    "%matplotlib notebook"
   ]
  },
  {
   "cell_type": "code",
   "execution_count": null,
   "metadata": {
    "collapsed": true
   },
   "outputs": [],
   "source": [
    "posRaw = np.recfromtxt(\"./Size100/RGB/Positive/rgb\")"
   ]
  },
  {
   "cell_type": "code",
   "execution_count": null,
   "metadata": {
    "collapsed": true
   },
   "outputs": [],
   "source": [
    "negRaw = np.recfromtxt(\"./Size100/RGB/Negative/rgb\")"
   ]
  },
  {
   "cell_type": "code",
   "execution_count": null,
   "metadata": {
    "collapsed": false
   },
   "outputs": [],
   "source": [
    "X= np.concatenate([posRaw,negRaw])\n",
    "len(negRaw)"
   ]
  },
  {
   "cell_type": "code",
   "execution_count": null,
   "metadata": {
    "collapsed": false
   },
   "outputs": [],
   "source": [
    "xlabels=np.zeros((1392,1))\n",
    "ylabels=np.ones((1423,1))\n",
    "labels=np.concatenate([xlabels,ylabels])"
   ]
  },
  {
   "cell_type": "code",
   "execution_count": null,
   "metadata": {
    "collapsed": false
   },
   "outputs": [],
   "source": [
    "print(\"Computing LLE embedding\")\n",
    "X_r, err = manifold.locally_linear_embedding(posRaw, n_neighbors=12, n_components=2)\n",
    "print(\"Done. Reconstruction error: %g\" % err)"
   ]
  },
  {
   "cell_type": "code",
   "execution_count": null,
   "metadata": {
    "collapsed": false
   },
   "outputs": [],
   "source": [
    "fig = plt.figure()\n",
    "try:\n",
    "    # compatibility matplotlib < 1.0\n",
    "    ax = fig.add_subplot(211, projection='3d')\n",
    "    #ax.scatter(posRaw[:, 0], posRaw[:, 1], posRaw[:, 2], c=color, cmap=plt.cm.Spectral)\n",
    "except:\n",
    "    ax = fig.add_subplot(211)\n",
    "    #ax.scatter(posRaw[:, 0], posRaw[:, 2], c=color, cmap=plt.cm.Spectral)\n",
    "\n",
    "ax.set_title(\"Original data\")\n",
    "ax = fig.add_subplot(212)\n",
    "ax.scatter(X_r[:, 0], X_r[:, 1], cmap=plt.cm.Spectral)\n",
    "plt.axis('tight')\n",
    "#plt.xticks([]), plt.yticks([])\n",
    "plt.title('Projected data')\n",
    "plt.show()"
   ]
  },
  {
   "cell_type": "code",
   "execution_count": null,
   "metadata": {
    "collapsed": false
   },
   "outputs": [],
   "source": [
    "X_r.shape"
   ]
  },
  {
   "cell_type": "code",
   "execution_count": null,
   "metadata": {
    "collapsed": false
   },
   "outputs": [],
   "source": [
    "print(\"Computing LLE embedding\")\n",
    "X1_r, err = manifold.locally_linear_embedding(X, n_neighbors=20, n_components=1000)\n",
    "print(\"Done. Reconstruction error: %g\" % err)"
   ]
  },
  {
   "cell_type": "code",
   "execution_count": null,
   "metadata": {
    "collapsed": false
   },
   "outputs": [],
   "source": [
    "fig = plt.figure()\n",
    "try:\n",
    "    # compatibility matplotlib < 1.0\n",
    "    ax = fig.add_subplot(211, projection='3d')\n",
    "    ax.scatter(X[:, 0], X[:, 1], X[:, 2], cmap=plt.cm.Spectral)\n",
    "except:\n",
    "    ax = fig.add_subplot(211)\n",
    "    #ax.scatter(posRaw[:, 0], posRaw[:, 2], c=color, cmap=plt.cm.Spectral)\n",
    "\n",
    "ax.set_title(\"Original data\")\n",
    "ax = fig.add_subplot(212, projection='3d')\n",
    "ax.scatter(X1_r[:, 0], X1_r[:, 1],X1_r[:, 2],labels=labels, cmap=plt.cm.Spectral)\n",
    "plt.axis('tight')\n",
    "#plt.xticks([]), plt.yticks([])\n",
    "plt.title('Projected data')\n",
    "plt.show()"
   ]
  },
  {
   "cell_type": "code",
   "execution_count": null,
   "metadata": {
    "collapsed": false
   },
   "outputs": [],
   "source": [
    "X1_r.shape"
   ]
  },
  {
   "cell_type": "code",
   "execution_count": null,
   "metadata": {
    "collapsed": false
   },
   "outputs": [],
   "source": [
    "print(\"Computing LLE embedding\")\n",
    "X2_r, err = manifold.locally_linear_embedding(X1_r, n_neighbors=15, n_components=10)\n",
    "print(\"Done. Reconstruction error: %g\" % err)"
   ]
  },
  {
   "cell_type": "code",
   "execution_count": null,
   "metadata": {
    "collapsed": false
   },
   "outputs": [],
   "source": [
    "fig = plt.figure()\n",
    "try:\n",
    "    # compatibility matplotlib < 1.0\n",
    "    ax = fig.add_subplot(211, projection='3d')\n",
    "    ax.scatter(X1_r[:, 0], X1_r[:, 1],X1_r[:, 2], cmap=plt.cm.Spectral)\n",
    "except:\n",
    "    ax = fig.add_subplot(211)\n",
    "    #ax.scatter(posRaw[:, 0], posRaw[:, 2], c=color, cmap=plt.cm.Spectral)\n",
    "\n",
    "ax.set_title(\"Original data\")\n",
    "ax = fig.add_subplot(212)\n",
    "ax.scatter(X2_r[:, 0], X2_r[:, 1], cmap=plt.cm.Spectral)\n",
    "plt.axis('tight')\n",
    "#plt.xticks([]), plt.yticks([])\n",
    "plt.title('Projected data')\n",
    "plt.show()"
   ]
  },
  {
   "cell_type": "code",
   "execution_count": null,
   "metadata": {
    "collapsed": false
   },
   "outputs": [],
   "source": [
    "print(\"Computing LLE embedding\")\n",
    "X3_r, err = manifold.locally_linear_embedding(X2_r, n_neighbors=10, n_components=2)\n",
    "print(\"Done. Reconstruction error: %g\" % err)"
   ]
  },
  {
   "cell_type": "code",
   "execution_count": null,
   "metadata": {
    "collapsed": false
   },
   "outputs": [],
   "source": [
    "fig = plt.figure()\n",
    "try:\n",
    "    # compatibility matplotlib < 1.0\n",
    "    ax = fig.add_subplot(211, projection='3d')\n",
    "    ax.scatter(X2_r[:, 0], X2_r[:, 1],X2_r[:, 2], cmap=plt.cm.Spectral)\n",
    "except:\n",
    "    ax = fig.add_subplot(211)\n",
    "    #ax.scatter(posRaw[:, 0], posRaw[:, 2], c=color, cmap=plt.cm.Spectral)\n",
    "\n",
    "ax.set_title(\"Original data\")\n",
    "ax = fig.add_subplot(212)\n",
    "ax.scatter(X3_r[:, 0], X3_r[:, 1], cmap=plt.cm.Spectral)\n",
    "plt.axis('tight')\n",
    "#plt.xticks([]), plt.yticks([])\n",
    "plt.title('Projected data')\n",
    "plt.show()"
   ]
  },
  {
   "cell_type": "code",
   "execution_count": null,
   "metadata": {
    "collapsed": true
   },
   "outputs": [],
   "source": []
  }
 ],
 "metadata": {
  "kernelspec": {
   "display_name": "Python 2",
   "language": "python",
   "name": "python2"
  },
  "language_info": {
   "codemirror_mode": {
    "name": "ipython",
    "version": 2
   },
   "file_extension": ".py",
   "mimetype": "text/x-python",
   "name": "python",
   "nbconvert_exporter": "python",
   "pygments_lexer": "ipython2",
   "version": "2.7.6"
  }
 },
 "nbformat": 4,
 "nbformat_minor": 0
}
